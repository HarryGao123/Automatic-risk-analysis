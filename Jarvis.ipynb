{
 "cells": [
  {
   "cell_type": "code",
   "execution_count": null,
   "id": "6309e965",
   "metadata": {
    "ExecuteTime": {
     "end_time": "2022-06-28T01:43:31.553740Z",
     "start_time": "2022-06-28T01:43:30.499199Z"
    }
   },
   "outputs": [],
   "source": [
    "from selenium import webdriver\n",
    "from selenium.webdriver.support.ui import WebDriverWait\n",
    "from pyquery import PyQuery as pq\n",
    "from webdriver_manager.chrome import ChromeDriverManager\n",
    "from selenium.webdriver.common.by import By\n",
    "from selenium.webdriver.support import expected_conditions as EC\n",
    "import numpy as np\n",
    "from pyquery import PyQuery as pq\n",
    "from selenium.webdriver.common.keys import Keys\n",
    "from selenium.webdriver.edge.options import Options \n",
    "import re\n",
    "from bs4 import BeautifulSoup\n",
    "from datetime import datetime\n",
    "from dateutil import parser\n",
    "from fuzzywuzzy import fuzz\n",
    "from fuzzywuzzy import process\n",
    "from selenium.webdriver.common.keys import Keys\n",
    "from selenium.webdriver.common.action_chains import ActionChains\n",
    "from selenium.common.exceptions import NoSuchElementException\n",
    "from selenium.common.exceptions import ElementNotInteractableException\n",
    "from selenium.common.exceptions import TimeoutException"
   ]
  },
  {
   "cell_type": "code",
   "execution_count": null,
   "id": "b8b04667",
   "metadata": {
    "ExecuteTime": {
     "end_time": "2022-06-28T01:43:31.599432Z",
     "start_time": "2022-06-28T01:43:31.555767Z"
    }
   },
   "outputs": [],
   "source": [
    "from Ekata import *\n",
    "from iproxy import *\n",
    "from Dossier import *\n",
    "from Good_Spend import *\n",
    "from diff_month import *"
   ]
  },
  {
   "cell_type": "code",
   "execution_count": null,
   "id": "f2c4ece5",
   "metadata": {
    "ExecuteTime": {
     "end_time": "2022-06-28T01:43:58.666939Z",
     "start_time": "2022-06-28T01:43:44.811123Z"
    }
   },
   "outputs": [],
   "source": [
    "edge_options = Options()\n",
    "user_data_dir = ' '\n",
    "# Here you set the path of the profile ending with User Data not the profile folder\n",
    "edge_options.add_argument(user_data_dir)\n",
    "\n",
    "# Here you specify the actual profile folder    \n",
    "edge_options.add_argument(\"profile-directory=profile 1\")\n",
    "\n",
    "edge_options.binary_location = r\"C:\\Program Files (x86)\\Microsoft\\Edge\\Application\\msedge.exe\"\n",
    "driver = webdriver.Edge(options = edge_options)\n",
    "    \n",
    "# Github credentials\n",
    "username = \"\"\n",
    "password = \"\"\n",
    "\n",
    "# head to Jarvis login page\n",
    "driver.get(\"https://jarvisjx.cp.microsoft.com\")\n",
    "\n",
    "# wait login window\n",
    "WebDriverWait(driver, 10).until(EC.presence_of_element_located((By.XPATH, '//*[@id=\"tilesHolder\"]/div[1]/div/div')))\n",
    "# choose account \n",
    "driver.find_element(By.XPATH, '//*[@id=\"tilesHolder\"]/div[1]/div/div').click()\n",
    "\n",
    "# choose consumer \n",
    "driver.find_element(By.XPATH, '//*[@id=\"summaryNav\"]/li[5]').click()\n",
    "\n",
    "# wait consumer window\n",
    "WebDriverWait(driver, 10).until(EC.presence_of_element_located((By.XPATH, '//*[@id=\"tenantData-1\"]/table/thead/tr/th[1]')))\n",
    "\n",
    "# web-physical\n",
    "driver.find_element(By.XPATH, '//*[@id=\"qSelChk100002\"]').click()"
   ]
  },
  {
   "cell_type": "code",
   "execution_count": null,
   "id": "495c16fa",
   "metadata": {
    "ExecuteTime": {
     "end_time": "2022-06-28T01:44:04.685542Z",
     "start_time": "2022-06-28T01:44:04.621791Z"
    }
   },
   "outputs": [],
   "source": [
    "# scroll down\n",
    "driver.find_element(By.XPATH, '//*[@id=\"qSelChk100002\"]').send_keys(Keys.PAGE_DOWN)"
   ]
  },
  {
   "cell_type": "code",
   "execution_count": null,
   "id": "9f409c5e",
   "metadata": {
    "ExecuteTime": {
     "end_time": "2022-06-28T01:47:00.038130Z",
     "start_time": "2022-06-28T01:46:53.122518Z"
    }
   },
   "outputs": [],
   "source": [
    "ekata_driver = Ekata_login()"
   ]
  },
  {
   "cell_type": "code",
   "execution_count": null,
   "id": "11560756",
   "metadata": {
    "ExecuteTime": {
     "end_time": "2022-06-28T01:47:18.296774Z",
     "start_time": "2022-06-28T01:47:06.249763Z"
    }
   },
   "outputs": [],
   "source": [
    "ip_proxy_login = ip_proxy_login()"
   ]
  },
  {
   "cell_type": "code",
   "execution_count": null,
   "id": "fb5d661c",
   "metadata": {
    "ExecuteTime": {
     "end_time": "2022-06-25T03:30:03.736961Z",
     "start_time": "2022-06-25T03:29:57.640944Z"
    }
   },
   "outputs": [],
   "source": [
    "# Dossier_login = Dossier_login(driver)"
   ]
  },
  {
   "cell_type": "code",
   "execution_count": null,
   "id": "a9f45ebe",
   "metadata": {
    "ExecuteTime": {
     "end_time": "2022-06-28T01:47:22.978949Z",
     "start_time": "2022-06-28T01:47:22.947291Z"
    }
   },
   "outputs": [],
   "source": [
    "# switch to the next window\n",
    "driver.switch_to.window(driver.window_handles[0])"
   ]
  },
  {
   "cell_type": "code",
   "execution_count": null,
   "id": "29d8b3d0",
   "metadata": {
    "ExecuteTime": {
     "end_time": "2022-06-28T03:16:42.764153Z",
     "start_time": "2022-06-28T03:16:42.678183Z"
    }
   },
   "outputs": [],
   "source": [
    "# click Review \n",
    "driver.find_element(By.XPATH, '//*[@id=\"fltrRvwBtn\"]').click()"
   ]
  },
  {
   "cell_type": "code",
   "execution_count": null,
   "id": "2d6430d3",
   "metadata": {
    "ExecuteTime": {
     "end_time": "2022-06-28T03:16:46.610529Z",
     "start_time": "2022-06-28T03:16:46.595266Z"
    }
   },
   "outputs": [],
   "source": [
    "# switch to the next window\n",
    "driver.switch_to.window(driver.window_handles[1])"
   ]
  },
  {
   "cell_type": "code",
   "execution_count": null,
   "id": "47ad0d13",
   "metadata": {},
   "outputs": [],
   "source": []
  },
  {
   "cell_type": "code",
   "execution_count": null,
   "id": "d63e56aa",
   "metadata": {
    "ExecuteTime": {
     "end_time": "2022-06-28T03:16:51.494505Z",
     "start_time": "2022-06-28T03:16:51.339428Z"
    }
   },
   "outputs": [],
   "source": [
    "# get html \n",
    "html = driver.page_source\n",
    "doc = BeautifulSoup(html)"
   ]
  },
  {
   "cell_type": "code",
   "execution_count": null,
   "id": "1da12a24",
   "metadata": {
    "ExecuteTime": {
     "end_time": "2022-06-28T03:16:51.509087Z",
     "start_time": "2022-06-28T03:16:51.496526Z"
    }
   },
   "outputs": [],
   "source": [
    "# msa date\n",
    "msa = doc.find('span', class_='paren msaCreateDate').text.replace(',', '')\n",
    "msa = parser.parse(msa)\n",
    "\n",
    "# pi date\n",
    "pi_date = doc.find('span', class_='paren piAddDate').text.replace(',', '')\n",
    "pi_date = parser.parse(pi_date)\n",
    "\n",
    "# email\n",
    "email = doc.find('u', class_='email').text\n",
    "\n",
    "# Account address\n",
    "acc_address = doc.find('dt', class_='').find_next_siblings('dd')[1].text\n",
    "\n",
    "# puid \n",
    "puid = doc.find('dt', class_='').find_next_siblings('dd')[4].text\n",
    "\n",
    "# CH \n",
    "ch = doc.find('dd', attrs={'data-tag' : 'PaymentInstrument-PiFullName'}).text\n",
    "ch_firstname = ch.split(' ')[1]\n",
    "ch_surname = ch.split(' ')[-2]"
   ]
  },
  {
   "cell_type": "code",
   "execution_count": null,
   "id": "22252204",
   "metadata": {
    "ExecuteTime": {
     "end_time": "2022-06-28T03:16:51.570359Z",
     "start_time": "2022-06-28T03:16:51.510706Z"
    }
   },
   "outputs": [],
   "source": [
    "if driver.find_element(By.XPATH, '//*[@id=\"paymentInstrument\"]/div[1]/div/dl/dd[5]').text == 'paypal':\n",
    "    # pi address\n",
    "    pi_address = driver.find_element(By.XPATH, '//*[@id=\"paymentInstrument\"]/div[1]/div/dl/dd[2]').text\n",
    "else:\n",
    "    # pi address\n",
    "    pi_address = driver.find_element(By.XPATH, '//*[@id=\"paymentInstrument\"]/div[1]/div/dl/dd[2]').text\n",
    "    # bin country\n",
    "    bin_country = doc.find('dd', attrs={'data-tag' : 'PaymentInstrument-BinCountryCode'}).text\n"
   ]
  },
  {
   "cell_type": "code",
   "execution_count": null,
   "id": "5c025812",
   "metadata": {
    "ExecuteTime": {
     "end_time": "2022-06-28T03:55:22.972438Z",
     "start_time": "2022-06-28T03:55:22.957386Z"
    }
   },
   "outputs": [],
   "source": [
    "# items\n",
    "items = doc.find('span', attrs={'class' : 'desc'}).text\n",
    "\n",
    "# rec name\n",
    "rec_name = doc.find('dd', attrs={'data-tag' : 'Transaction-ShippingName'}).text\n",
    "rec_firstname = rec_name.split(' ')[1]\n",
    "rec_surname = rec_name.split(' ')[-2]\n",
    "\n",
    "# shipping address\n",
    "sa = doc.find('dd', attrs={'data-tag' : 'Transaction-FullShippingAddress'}).text\n",
    "\n",
    "# shipping phone\n",
    "sp = driver.find_element(By.XPATH, '//*[@id=\"transactionDetails\"]/div[1]/div/dl/dd[4]').text\n",
    "\n",
    "# PUID\n",
    "tracking_guid = driver.find_element(By.XPATH, '//*[@id=\"transactionDetails\"]/div[1]/div/dl/dd[15]').text\n",
    "\n",
    "# ip address\n",
    "ip = doc.find('dd', attrs={'data-tag' : 'IPActivity-TrueIp'}).text\n",
    "ip = ip.strip(' ')\n",
    "\n",
    "# chargeback sum\n",
    "cb = driver.find_element(By.XPATH, '//*[@id=\"BillingHistory\"]/div[1]/div/dl/dd[4]').text.strip('$')\n",
    "cb = float(cb)\n",
    "\n",
    "# good_spend\n",
    "Jarvis_good_spend= driver.find_element(By.XPATH, '//*[@id=\"BillingHistory\"]/div[1]/div/dl/dd[7]').text.strip('$')\n",
    "Jarvis_good_spend = float(Jarvis_good_spend)"
   ]
  },
  {
   "cell_type": "code",
   "execution_count": null,
   "id": "625175de",
   "metadata": {
    "ExecuteTime": {
     "end_time": "2022-06-28T03:16:52.017603Z",
     "start_time": "2022-06-28T03:16:51.706772Z"
    }
   },
   "outputs": [],
   "source": [
    "# links\n",
    "\n",
    "# True ip \n",
    "try:\n",
    "    true_ip_user= driver.find_element(By.XPATH, '//*[@id=\"BrowserIPAddress\"]/header/ul/li[1]').text\n",
    "    true_ip_rejected = driver.find_element(By.XPATH, '//*[@id=\"BrowserIPAddress\"]/header/ul/li[2]').text\n",
    "    true_ip_approve = driver.find_element(By.XPATH, '//*[@id=\"BrowserIPAddress\"]/header/ul/li[3]').text\n",
    "except NoSuchElementException:\n",
    "    true_ip_user = None\n",
    "    \n",
    "# PUID -> addpi event\n",
    "try:\n",
    "    add_pi_user =  driver.find_element(By.XPATH, '//*[@id=\"UserId\"]/header/ul/li[1]').text\n",
    "    add_pi_rejected =  driver.find_element(By.XPATH, '//*[@id=\"UserId\"]/header/ul/li[2]').text\n",
    "    add_pi_approve =  driver.find_element(By.XPATH, '//*[@id=\"UserId\"]/header/ul/li[3]').text\n",
    "except NoSuchElementException:\n",
    "    add_pi_user = None\n",
    "    \n",
    "# PI Hash \n",
    "try:\n",
    "    pi_hash_user = driver.find_element(By.XPATH, '//*[@id=\"CTPPIHASHID\"]/header/ul/li[1]').text\n",
    "    pi_hash_rejected = driver.find_element(By.XPATH, '//*[@id=\"CTPPIHASHID\"]/header/ul/li[2]').text\n",
    "    pi_hash_approve = driver.find_element(By.XPATH, '//*[@id=\"CTPPIHASHID\"]/header/ul/li[3]').text\n",
    "except NoSuchElementException:\n",
    "    pi_hash_user = None\n",
    "    \n",
    "# Bing map address\n",
    "try:\n",
    "    Bing_user = driver.find_element(By.XPATH, '//*[@id=\"s_BingMap_SAFormattedAddress\"]/header/ul/li[1]').text\n",
    "    Bing_rejected = driver.find_element(By.XPATH, '//*[@id=\"s_BingMap_SAFormattedAddress\"]/header/ul/li[1]').text\n",
    "    Bing_approve = driver.find_element(By.XPATH, '//*[@id=\"s_BingMap_SAFormattedAddress\"]/header/ul/li[1]').text\n",
    "except NoSuchElementException:\n",
    "    Bing_user = None\n"
   ]
  },
  {
   "cell_type": "code",
   "execution_count": null,
   "id": "d3f4bc3d",
   "metadata": {
    "ExecuteTime": {
     "end_time": "2022-06-28T03:16:52.202952Z",
     "start_time": "2022-06-28T03:16:52.020941Z"
    }
   },
   "outputs": [],
   "source": [
    "# type items \n",
    "driver.find_element(By.XPATH, '//*[@id=\"notes\"]/input').send_keys(items)\n",
    "driver.find_element(By.XPATH, '//*[@id=\"notes\"]/input').send_keys(Keys.ENTER)"
   ]
  },
  {
   "cell_type": "code",
   "execution_count": null,
   "id": "90700418",
   "metadata": {
    "ExecuteTime": {
     "end_time": "2022-06-28T03:16:52.326956Z",
     "start_time": "2022-06-28T03:16:52.203951Z"
    }
   },
   "outputs": [],
   "source": [
    "# check msa\n",
    "if diff_month(datetime.date(datetime.now()), msa) >= 3:\n",
    "    driver.find_element(By.XPATH, '//*[@id=\"notes\"]/input').send_keys('EST MSA')\n",
    "    driver.find_element(By.XPATH, '//*[@id=\"notes\"]/input').send_keys(Keys.ENTER)\n",
    "else:\n",
    "    driver.find_element(By.XPATH, '//*[@id=\"notes\"]/input').send_keys('NEW MSA')\n",
    "    driver.find_element(By.XPATH, '//*[@id=\"notes\"]/input').send_keys(Keys.ENTER)"
   ]
  },
  {
   "cell_type": "code",
   "execution_count": null,
   "id": "74e60eb4",
   "metadata": {
    "ExecuteTime": {
     "end_time": "2022-06-28T03:16:52.419563Z",
     "start_time": "2022-06-28T03:16:52.329258Z"
    }
   },
   "outputs": [],
   "source": [
    "# check pi_date\n",
    "if diff_month(datetime.date(datetime.now()), pi_date) >= 3:\n",
    "    driver.find_element(By.XPATH, '//*[@id=\"notes\"]/input').send_keys('est pi')\n",
    "    driver.find_element(By.XPATH, '//*[@id=\"notes\"]/input').send_keys(Keys.ENTER)\n",
    "else:\n",
    "    driver.find_element(By.XPATH, '//*[@id=\"notes\"]/input').send_keys('new pi')\n",
    "    driver.find_element(By.XPATH, '//*[@id=\"notes\"]/input').send_keys(Keys.ENTER)"
   ]
  },
  {
   "cell_type": "code",
   "execution_count": null,
   "id": "9a395b75",
   "metadata": {
    "ExecuteTime": {
     "end_time": "2022-06-28T03:16:52.541976Z",
     "start_time": "2022-06-28T03:16:52.420562Z"
    }
   },
   "outputs": [],
   "source": [
    "# check if API match \n",
    "if fuzz.partial_ratio(acc_address, pi_address) >= 75:\n",
    "    driver.find_element(By.XPATH, '//*[@id=\"notes\"]/input').send_keys('API Match')\n",
    "    driver.find_element(By.XPATH, '//*[@id=\"notes\"]/input').send_keys(Keys.ENTER)\n",
    "else:\n",
    "    driver.find_element(By.XPATH, '//*[@id=\"notes\"]/input').send_keys('API Mismatch')\n",
    "    driver.find_element(By.XPATH, '//*[@id=\"notes\"]/input').send_keys(Keys.ENTER)"
   ]
  },
  {
   "cell_type": "code",
   "execution_count": null,
   "id": "8a6342cb",
   "metadata": {
    "ExecuteTime": {
     "end_time": "2022-06-28T03:44:52.395994Z",
     "start_time": "2022-06-28T03:44:51.798221Z"
    }
   },
   "outputs": [],
   "source": [
    "# check sa with ch\n",
    "ekata_drive, first_name, family_name = Ekata_address(driver=ekata_driver, address=sa.split(',')[:-2], state=sa.split(',')[-2], country=sa.split(',')[-1], \n",
    "              first_name=ch_firstname, family_name=ch_surname)\n",
    "\n",
    "if first_name==True and family_name==True:\n",
    "    driver.find_element(By.XPATH, '//*[@id=\"notes\"]/input').send_keys('sa linked to ch')\n",
    "    driver.find_element(By.XPATH, '//*[@id=\"notes\"]/input').send_keys(Keys.ENTER)\n",
    "elif family_name==True:\n",
    "    driver.find_element(By.XPATH, '//*[@id=\"notes\"]/input').send_keys('sa linked to ch family name')\n",
    "    driver.find_element(By.XPATH, '//*[@id=\"notes\"]/input').send_keys(Keys.ENTER)\n",
    "elif first_name==True:\n",
    "    driver.find_element(Bye.XPATH, '//*[@id=\"notes\"]/input').send_keys('sa linked to ch first name')\n",
    "    driver.find_element(By.XPATH, '//*[@id=\"notes\"]/input').send_keys(Keys.ENTER)\n",
    "else:\n",
    "    driver.find_element(By.XPATH, '//*[@id=\"notes\"]/input').send_keys('sa not linked to ch')\n",
    "    driver.find_element(By.XPATH, '//*[@id=\"notes\"]/input').send_keys(Keys.ENTER)"
   ]
  },
  {
   "cell_type": "code",
   "execution_count": null,
   "id": "bcc96bd4",
   "metadata": {
    "ExecuteTime": {
     "end_time": "2022-06-28T03:16:53.810696Z",
     "start_time": "2022-06-28T03:16:53.271283Z"
    }
   },
   "outputs": [],
   "source": [
    "# check sa with rec\n",
    "ekata_drive, first_name, family_name = Ekata_address(ekata_driver, address=sa.split(',')[:-2], state=sa.split(',')[-2], country=sa.split(',')[-1], \n",
    "              first_name=rec_firstname, family_name=rec_surname)\n",
    "\n",
    "if first_name==True and family_name==True:\n",
    "    driver.find_element(By.XPATH, '//*[@id=\"notes\"]/input').send_keys('sa linked to rec')\n",
    "    driver.find_element(By.XPATH, '//*[@id=\"notes\"]/input').send_keys(Keys.ENTER)\n",
    "elif family_name==True:\n",
    "    driver.find_element(By.XPATH, '//*[@id=\"notes\"]/input').send_keys('sa linked to rec family name')\n",
    "    driver.find_element(By.XPATH, '//*[@id=\"notes\"]/input').send_keys(Keys.ENTER)\n",
    "elif first_name==True:\n",
    "    driver.find_element(Bye.XPATH, '//*[@id=\"notes\"]/input').send_keys('sa linked to rec first name')\n",
    "    driver.find_element(By.XPATH, '//*[@id=\"notes\"]/input').send_keys(Keys.ENTER)\n",
    "else:\n",
    "    driver.find_element(By.XPATH, '//*[@id=\"notes\"]/input').send_keys('sa not linked rec')\n",
    "    driver.find_element(By.XPATH, '//*[@id=\"notes\"]/input').send_keys(Keys.ENTER)"
   ]
  },
  {
   "cell_type": "code",
   "execution_count": null,
   "id": "2e804a0a",
   "metadata": {
    "ExecuteTime": {
     "end_time": "2022-06-28T03:29:05.463071Z",
     "start_time": "2022-06-28T03:29:05.060159Z"
    }
   },
   "outputs": [],
   "source": [
    "# check sp with ch\n",
    "ekata_drive, first_name, family_name = Ekata_phone(ekata_driver, country=sa.split(',')[-1].strip().upper()+' ', phone=sp,\n",
    "              first_name=ch_firstname, family_name=ch_surname)\n",
    "\n",
    "if first_name==True and family_name==True:\n",
    "    driver.find_element(By.XPATH, '//*[@id=\"notes\"]/input').send_keys('sp linked to ch')\n",
    "    driver.find_element(By.XPATH, '//*[@id=\"notes\"]/input').send_keys(Keys.ENTER)\n",
    "elif family_name==True:\n",
    "    driver.find_element(By.XPATH, '//*[@id=\"notes\"]/input').send_keys('sp linked to ch family name')\n",
    "    driver.find_element(By.XPATH, '//*[@id=\"notes\"]/input').send_keys(Keys.ENTER)\n",
    "elif first_name==True:\n",
    "    driver.find_element(By.XPATH, '//*[@id=\"notes\"]/input').send_keys('sp linked to ch first name')\n",
    "    driver.find_element(By.XPATH, '//*[@id=\"notes\"]/input').send_keys(Keys.ENTER)\n",
    "else:\n",
    "    driver.find_element(By.XPATH, '//*[@id=\"notes\"]/input').send_keys('sp not linked to ch')\n",
    "    driver.find_element(By.XPATH, '//*[@id=\"notes\"]/input').send_keys(Keys.ENTER)"
   ]
  },
  {
   "cell_type": "code",
   "execution_count": null,
   "id": "2b1d8694",
   "metadata": {
    "ExecuteTime": {
     "end_time": "2022-06-28T03:16:55.122992Z",
     "start_time": "2022-06-28T03:16:54.258359Z"
    }
   },
   "outputs": [],
   "source": [
    "# check sp with rec\n",
    "ekata_drive, first_name, family_name = Ekata_phone(ekata_driver, country=sa.split(',')[-1].strip().upper()+' ', phone=sp,\n",
    "              first_name=rec_firstname, family_name=rec_surname)\n",
    "\n",
    "if first_name==True and family_name==True:\n",
    "    driver.find_element(By.XPATH, '//*[@id=\"notes\"]/input').send_keys('sp linked to rec')\n",
    "    driver.find_element(By.XPATH, '//*[@id=\"notes\"]/input').send_keys(Keys.ENTER)\n",
    "elif family_name==True:\n",
    "    driver.find_element(By.XPATH, '//*[@id=\"notes\"]/input').send_keys('sp linked to rec family name')\n",
    "    driver.find_element(By.XPATH, '//*[@id=\"notes\"]/input').send_keys(Keys.ENTER)\n",
    "elif first_name==True:\n",
    "    driver.find_element(By.XPATH, '//*[@id=\"notes\"]/input').send_keys('sp linked to rec first name')\n",
    "    driver.find_element(By.XPATH, '//*[@id=\"notes\"]/input').send_keys(Keys.ENTER)\n",
    "else:\n",
    "    driver.find_element(By.XPATH, '//*[@id=\"notes\"]/input').send_keys('sp not linked to rec')\n",
    "    driver.find_element(By.XPATH, '//*[@id=\"notes\"]/input').send_keys(Keys.ENTER)"
   ]
  },
  {
   "cell_type": "code",
   "execution_count": null,
   "id": "f22e2c5f",
   "metadata": {
    "ExecuteTime": {
     "end_time": "2022-06-28T03:16:56.226520Z",
     "start_time": "2022-06-28T03:16:55.124075Z"
    }
   },
   "outputs": [],
   "source": [
    "# check ip\n",
    "location, conn_type, register_org, ekata_driver = Ekata_IP(ekata_driver, ip)\n",
    "if_proxy = ip_proxy_check(ip_proxy_login, ip)[1]\n",
    "\n",
    "# check ip cellular or not\n",
    "if conn_type == 'Cellular':\n",
    "    driver.find_element(By.XPATH, '//*[@id=\"notes\"]/input').send_keys('cellular ip')\n",
    "    driver.find_element(By.XPATH, '//*[@id=\"notes\"]/input').send_keys(Keys.ENTER)\n",
    "# check if proxy ip\n",
    "elif if_proxy:\n",
    "    driver.find_element(By.XPATH, '//*[@id=\"notes\"]/input').send_keys('proxy ip')\n",
    "    driver.find_element(By.XPATH, '//*[@id=\"notes\"]/input').send_keys(Keys.ENTER)\n",
    "    print(ip_proxy_check(ip_proxy_login, ip)[1])\n",
    "# check if geoip match\n",
    "else:\n",
    "    driver.find_element(By.XPATH, '//*[@id=\"notes\"]/input').send_keys('no proxy')\n",
    "    driver.find_element(By.XPATH, '//*[@id=\"notes\"]/input').send_keys(Keys.ENTER)\n",
    "    \n",
    "    if location.split(',')[0] in (pi_address or sa) :\n",
    "        driver.find_element(By.XPATH, '//*[@id=\"notes\"]/input').send_keys('geoip match')\n",
    "        driver.find_element(By.XPATH, '//*[@id=\"notes\"]/input').send_keys(Keys.ENTER)\n",
    "        \n",
    "    else:\n",
    "        driver.find_element(By.XPATH, '//*[@id=\"notes\"]/input').send_keys('geoip mismatch')\n",
    "        driver.find_element(By.XPATH, '//*[@id=\"notes\"]/input').send_keys(Keys.ENTER)"
   ]
  },
  {
   "cell_type": "code",
   "execution_count": null,
   "id": "748ddb98",
   "metadata": {
    "ExecuteTime": {
     "end_time": "2022-06-28T03:53:08.158496Z",
     "start_time": "2022-06-28T03:53:08.106154Z"
    }
   },
   "outputs": [],
   "source": [
    "# good spend\n",
    "if Jarvis_good_spend > 0:\n",
    "    cb_ratio, good_spend, bad_spend = pay_load(driver=driver, risk_guid=tracking_guid)\n",
    "    driver.switch_to.window(driver.window_handles[1])\n",
    "    driver.find_element(By.XPATH, '//*[@id=\"notes\"]/input').send_keys('good spend'+str(good_spend))\n",
    "    driver.find_element(By.XPATH, '//*[@id=\"notes\"]/input').send_keys(Keys.ENTER)\n",
    "   \n",
    "    if bad_spend == 0:\n",
    "        driver.find_element(By.XPATH, '//*[@id=\"notes\"]/input').send_keys('no bad spend').send_keys('no cb')\n",
    "        driver.find_element(By.XPATH, '//*[@id=\"notes\"]/input').send_keys(Keys.ENTER)\n",
    "      \n",
    "    else:\n",
    "        driver.find_element(By.XPATH, '//*[@id=\"notes\"]/input').send_keys('ratio').send_keys(cb_ratio)\n",
    "        driver.find_element(By.XPATH, '//*[@id=\"notes\"]/input').send_keys(Keys.ENTER)\n",
    "        driver.find_element(By.XPATH, '//*[@id=\"notes\"]/input').send_keys('bad_spend').send_keys(bad_spend)\n",
    "        driver.find_element(By.XPATH, '//*[@id=\"notes\"]/input').send_keys(Keys.ENTER)\n",
    "        if cb_ratio < 1:\n",
    "            driver.find_element(By.XPATH, '//*[@id=\"notes\"]/input').send_keys('under')\n",
    "            driver.find_element(By.XPATH, '//*[@id=\"notes\"]/input').send_keys(Keys.ENTER)\n",
    "elif cb > 0:\n",
    "    cb_ratio, good_spend, bad_spend = pay_load(driver=driver, risk_guid=tracking_guid)\n",
    "    driver.switch_to.window(driver.window_handles[1])\n",
    "    print(cb_ratio)\n",
    "    print(bad_spend)\n",
    "else:\n",
    "    driver.find_element(By.XPATH, '//*[@id=\"notes\"]/input').send_keys('no good / bad spend')\n",
    "    driver.find_element(By.XPATH, '//*[@id=\"notes\"]/input').send_keys(Keys.ENTER)\n"
   ]
  },
  {
   "cell_type": "code",
   "execution_count": null,
   "id": "374989d8",
   "metadata": {
    "ExecuteTime": {
     "end_time": "2022-06-28T03:16:57.173759Z",
     "start_time": "2022-06-28T03:16:57.173759Z"
    }
   },
   "outputs": [],
   "source": [
    "# approve\n",
    "driver.find_element(By.XPATH, '//*[@id=\"accept\"]').click()\n",
    "\n",
    "WebDriverWait(driver, 10).until(EC.element_to_be_clickable((By.XPATH, '//*[@id=\"acceptMenu\"]/ul/li[5]')))\n",
    "\n",
    "driver.find_element(By.XPATH, '//*[@id=\"acceptMenu\"]/ul/li[5]').click()\n"
   ]
  }
 ],
 "metadata": {
  "kernelspec": {
   "display_name": "Python 3 (ipykernel)",
   "language": "python",
   "name": "python3"
  },
  "language_info": {
   "codemirror_mode": {
    "name": "ipython",
    "version": 3
   },
   "file_extension": ".py",
   "mimetype": "text/x-python",
   "name": "python",
   "nbconvert_exporter": "python",
   "pygments_lexer": "ipython3",
   "version": "3.9.7"
  }
 },
 "nbformat": 4,
 "nbformat_minor": 5
}
